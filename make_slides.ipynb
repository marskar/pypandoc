{
  "cells": [
    {
      "cell_type": "code",
      "execution_count": null,
      "metadata": {
        "collapsed": true,
        "pycharm": {
          "name": "#%% Imports\n"
        }
      },
      "outputs": [],
      "source": "from pypandoc import convert_file\nfrom pathlib import Path\n\n"
    },
    {
      "cell_type": "code",
      "execution_count": null,
      "outputs": [],
      "source": "def write_file(filename: str, contents: str) -\u003e None:\n    \"\"\"Writes contents to a file named filename\n\n    Args:\n        filename: The name of the target file\n        contents: The contents of the target file\n\n    Examples:\n        \u003e\u003e\u003e import tempfile\n        \u003e\u003e\u003e outfile_path \u003d tempfile.mkstemp()[1]\n        \u003e\u003e\u003e write_file(outfile_path, \"Test file contents\")\n        \u003e\u003e\u003e with open(outfile_path) as file: file.read()\n        \u0027Test file contents\u0027\n    \"\"\"\n    Path(filename).write_text(contents)\n\n\ndef make_slides(source: str \u003d \u0027slides.md\u0027, target: str \u003d \u0027slidy\u0027) -\u003e str:\n    \"\"\"Writes contents to a file named filename\n\n    Args:\n        source: The filepath of the target file\n        target: The HTML slideshow type, must be revealjs, slidy, or dzslides\n\n    Returns:\n        A string of characters that are the contents of an html slideshow.\n\n    Raises:\n        ValueError: Only three target frameworks: revealjs, slidy, or dzslides,\n            are currently supported.\n\n    Examples:\n        A minimal example using temporary input and output files\n        \u003e\u003e\u003e import tempfile # library needed to make temp files\n        \u003e\u003e\u003e infile_path \u003d tempfile.mkstemp(\u0027.md\u0027)[1] # markdown file path\n        \u003e\u003e\u003e write_file(infile_path, \"# Markdown header\") # markdown content\n        \u003e\u003e\u003e outfile_path \u003d tempfile.mkstemp(suffix\u003d\u0027.html\u0027)[1] # html file path\n        \u003e\u003e\u003e write_file(outfile_path, make_slides(infile_path)) # html slides\n        \u003e\u003e\u003e with open(outfile_path, \"r\") as f: outfile_contents \u003d f.read()\n        \u003e\u003e\u003e lines \u003d outfile_contents.split(\u0027\\\\n\u0027) # split contents into lines\n        \u003e\u003e\u003e lines[0] # first line\n        \u0027\u003c?xml version\u003d\"1.0\" encoding\u003d\"utf-8\" ?\u003e\u0027\n        \u003e\u003e\u003e lines[-4] # fourth to last line\n        \u0027\u003cdiv id\u003d\"markdown-header\" class\u003d\"titleslide slide section level1\"\u003e\u003ch1\u003eMarkdown header\u003c/h1\u003e\u003c/div\u003e\u0027\n    \"\"\"\n    if target in (\u0027slidy\u0027, \u0027dzslides\u0027, \u0027revealjs\u0027):\n        return convert_file(source, to\u003dtarget, extra_args\u003d[\u0027--self-contained\u0027]\n        if target is not \u0027revealjs\u0027\n        else [\u0027-sV\u0027, \u0027revealjs-url\u003dhttps://revealjs.com\u0027])\n    else:\n        raise ValueError(f\"{target} is not one of the 3 supported formats.\")\n\n",
      "metadata": {
        "pycharm": {
          "metadata": false,
          "name": "#%% Define functions\n"
        }
      }
    },
    {
      "cell_type": "code",
      "execution_count": null,
      "outputs": [],
      "source": "write_file(\u0027about.html\u0027, make_slides(source\u003d\u0027about.md\u0027))\n",
      "metadata": {
        "pycharm": {
          "metadata": false,
          "name": "#%% Call functions to create slides\n"
        }
      }
    }
  ],
  "metadata": {
    "language_info": {
      "codemirror_mode": {
        "name": "ipython",
        "version": 2
      },
      "file_extension": ".py",
      "mimetype": "text/x-python",
      "name": "python",
      "nbconvert_exporter": "python",
      "pygments_lexer": "ipython2",
      "version": "2.7.6"
    },
    "kernelspec": {
      "name": "python3",
      "language": "python",
      "display_name": "Python 3"
    }
  },
  "nbformat": 4,
  "nbformat_minor": 0
}